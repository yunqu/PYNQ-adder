{
 "cells": [
  {
   "cell_type": "markdown",
   "metadata": {},
   "source": [
    "## Input and output buffers\n",
    "\n",
    "By setting `C_SG_LENGTH_WIDTH`/`c_sg_length_width` to 22, \n",
    "the DMA IP is able to transfer a maximum of $2^{22}$ bytes.\n",
    "This means we can transfer at most 1 million 32-bit integers.\n",
    "In this example, we test 10000 integers. "
   ]
  },
  {
   "cell_type": "code",
   "execution_count": 1,
   "metadata": {},
   "outputs": [],
   "source": [
    "from time import time\n",
    "\n",
    "num_data = 10000"
   ]
  },
  {
   "cell_type": "markdown",
   "metadata": {},
   "source": [
    "We will reuse the same input buffer for both adders. The results are saved\n",
    "into different output buffers."
   ]
  },
  {
   "cell_type": "code",
   "execution_count": 2,
   "metadata": {},
   "outputs": [
    {
     "data": {
      "application/javascript": [
       "\n",
       "require(['notebook/js/codecell'], function(codecell) {\n",
       "  codecell.CodeCell.options_default.highlight_modes[\n",
       "      'magic_text/x-csrc'] = {'reg':[/^%%microblaze/]};\n",
       "  Jupyter.notebook.events.one('kernel_ready.Kernel', function(){\n",
       "      Jupyter.notebook.get_cells().map(function(cell){\n",
       "          if (cell.cell_type == 'code'){ cell.auto_highlight(); } }) ;\n",
       "  });\n",
       "});\n"
      ]
     },
     "metadata": {},
     "output_type": "display_data"
    }
   ],
   "source": [
    "import numpy as np\n",
    "from pynq import Xlnk\n",
    "\n",
    "xlnk = Xlnk()\n",
    "in_buffer = xlnk.cma_array(shape=(num_data,), dtype=np.uint32, cacheable=1)\n",
    "out_buffer0 = xlnk.cma_array(shape=(num_data,), dtype=np.uint32, cacheable=1)\n",
    "out_buffer1 = xlnk.cma_array(shape=(num_data,), dtype=np.uint32, cacheable=1)"
   ]
  },
  {
   "cell_type": "markdown",
   "metadata": {},
   "source": [
    "Now we populate the input buffer with some random integers."
   ]
  },
  {
   "cell_type": "code",
   "execution_count": 3,
   "metadata": {},
   "outputs": [],
   "source": [
    "for i in range(num_data):\n",
    "    in_buffer[i] = (np.random.randint(0,15)<<4)+np.random.randint(0,15)"
   ]
  },
  {
   "cell_type": "markdown",
   "metadata": {},
   "source": [
    "## 1. Adder using AXI Lite interface\n",
    "![alt text](images/axi_adder.PNG)"
   ]
  },
  {
   "cell_type": "code",
   "execution_count": 4,
   "metadata": {},
   "outputs": [],
   "source": [
    "from pynq import Overlay\n",
    "\n",
    "ol_add = Overlay('add.bit')\n",
    "adder_ip = ol_add.axi_adder_0"
   ]
  },
  {
   "cell_type": "markdown",
   "metadata": {},
   "source": [
    "We create a thin wrapper to call the AXI adder."
   ]
  },
  {
   "cell_type": "code",
   "execution_count": 5,
   "metadata": {},
   "outputs": [],
   "source": [
    "def add_data():\n",
    "    for i in range(len(in_buffer)):\n",
    "        adder_ip.write(0x0, int(in_buffer[i]>>4))\n",
    "        adder_ip.write(0x4, int(in_buffer[i]))\n",
    "        out_buffer0[i] = adder_ip.read(0x8)"
   ]
  },
  {
   "cell_type": "markdown",
   "metadata": {},
   "source": [
    "To verify the results, you can run something similar to:\n",
    "```python\n",
    "for i in range(10):\n",
    "    adder_ip.write(0x0, i)\n",
    "    adder_ip.write(0x4, i)\n",
    "    print(adder_ip.read(0x8))\n",
    "```\n",
    "\n",
    "In the following cell, let us record the time when performing 10000 additions."
   ]
  },
  {
   "cell_type": "code",
   "execution_count": 6,
   "metadata": {},
   "outputs": [],
   "source": [
    "t1 = time()\n",
    "add_data()\n",
    "t2 = time()\n",
    "t_add = t2-t1"
   ]
  },
  {
   "cell_type": "markdown",
   "metadata": {},
   "source": [
    "## 2. Adder using AXI Stream interface\n",
    "![alt text](images/axis_adder.PNG)"
   ]
  },
  {
   "cell_type": "code",
   "execution_count": 7,
   "metadata": {},
   "outputs": [],
   "source": [
    "from pynq import Overlay\n",
    "\n",
    "ol_adds = Overlay('adds.bit')\n",
    "dma_ip = ol_adds.axi_dma_0"
   ]
  },
  {
   "cell_type": "markdown",
   "metadata": {},
   "source": [
    "Similar as the AXI adder, we create a thin wrapper to call the AXIS adder."
   ]
  },
  {
   "cell_type": "code",
   "execution_count": 8,
   "metadata": {},
   "outputs": [],
   "source": [
    "def adds_data():\n",
    "    dma_ip.sendchannel.transfer(in_buffer)\n",
    "    dma_ip.recvchannel.transfer(out_buffer1)\n",
    "    dma_ip.sendchannel.wait()\n",
    "    dma_ip.recvchannel.wait()"
   ]
  },
  {
   "cell_type": "markdown",
   "metadata": {},
   "source": [
    "You can use the following code to test the IP as well.\n",
    "```python\n",
    "for i in range(10):\n",
    "    in_buffer[i] = (i<<4)+i+1\n",
    "\n",
    "adds_data()\n",
    "\n",
    "for i in range(10):\n",
    "    print(out_buffer1[i])\n",
    "```\n",
    "\n",
    "Let us record the time when performing 10000 additions."
   ]
  },
  {
   "cell_type": "code",
   "execution_count": 9,
   "metadata": {},
   "outputs": [],
   "source": [
    "t1 = time()\n",
    "adds_data()\n",
    "t2 = time()\n",
    "t_adds = t2-t1"
   ]
  },
  {
   "cell_type": "markdown",
   "metadata": {},
   "source": [
    "## Performance comparison\n",
    "We will compare the results stored in the two output buffers.\n",
    "Also, we can compare the performance.\n",
    "\n",
    "You can see in the following cell, the adder based on AXIS interfaces\n",
    "achieves much better performance."
   ]
  },
  {
   "cell_type": "code",
   "execution_count": 10,
   "metadata": {},
   "outputs": [
    {
     "name": "stdout",
     "output_type": "stream",
     "text": [
      "time used for axi lite adder: 1.8603198528289795\n",
      "time used for axi stream adder: 0.003721952438354492\n"
     ]
    }
   ],
   "source": [
    "for i in range(num_data):\n",
    "    assert out_buffer0[i] == out_buffer1[i], \\\n",
    "        f'unmatched data: {out_buffer0[i]}!={out_buffer1[i]} '\\\n",
    "        f'for {i}-th input {in_buffer[i]}.'\n",
    "\n",
    "print('time used for axi lite adder: {}'.format(t_add))\n",
    "print('time used for axi stream adder: {}'.format(t_adds))"
   ]
  },
  {
   "cell_type": "markdown",
   "metadata": {},
   "source": [
    "Free the memory at the end."
   ]
  },
  {
   "cell_type": "code",
   "execution_count": 11,
   "metadata": {},
   "outputs": [],
   "source": [
    "xlnk.xlnk_reset()"
   ]
  },
  {
   "cell_type": "markdown",
   "metadata": {},
   "source": [
    "Hope you enjoy this example! Have a good day!"
   ]
  }
 ],
 "metadata": {
  "kernelspec": {
   "display_name": "Python 3",
   "language": "python",
   "name": "python3"
  },
  "language_info": {
   "codemirror_mode": {
    "name": "ipython",
    "version": 3
   },
   "file_extension": ".py",
   "mimetype": "text/x-python",
   "name": "python",
   "nbconvert_exporter": "python",
   "pygments_lexer": "ipython3",
   "version": "3.6.5"
  }
 },
 "nbformat": 4,
 "nbformat_minor": 2
}
